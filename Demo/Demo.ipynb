{
 "cells": [
  {
   "cell_type": "code",
   "execution_count": 1,
   "id": "43cdd366-5f31-4df6-8a43-5401e2398d2e",
   "metadata": {},
   "outputs": [],
   "source": [
    "import os\n",
    "import numpy as np\n",
    "import matplotlib.pyplot as plt\n",
    "import seaborn as sns\n",
    "import tensorflow as tf\n",
    "\n",
    "from tensorflow.keras.models import load_model\n",
    "from tensorflow.keras.preprocessing import image\n",
    "from tensorflow.keras.preprocessing.image import ImageDataGenerator, load_img, img_to_array\n",
    "from sklearn.metrics import classification_report, confusion_matrix, accuracy_score\n",
    "from skimage.feature import hog\n",
    "import joblib"
   ]
  },
  {
   "cell_type": "code",
   "execution_count": 2,
   "id": "f58ce9ee-347a-4e25-a687-110cd96ceaa8",
   "metadata": {},
   "outputs": [],
   "source": [
    "#Demo dosyamda hem en iyi Yöntem 1 modelimi hem de en iyi yöntem 2 modelimi kullanacağım"
   ]
  },
  {
   "cell_type": "code",
   "execution_count": 3,
   "id": "6c1a7d37-93eb-45f6-936d-0d5c1c739827",
   "metadata": {},
   "outputs": [],
   "source": [
    "#Demo ayarlarım modeller düzgün çalışsın diye\n",
    "img_dims = (64, 64)\n",
    "batch_sz = 32\n",
    "cnn_path = \"best_model_64x64.keras\"\n",
    "svm_path = \"model_hog_svm.pkl\"\n",
    "test_root = \"demo_inputs/20\""
   ]
  },
  {
   "cell_type": "code",
   "execution_count": 4,
   "id": "9b1f351f-58c2-48b7-9e91-77cd70c82fc3",
   "metadata": {},
   "outputs": [
    {
     "name": "stderr",
     "output_type": "stream",
     "text": [
      "/opt/anaconda3/envs/cnn_env/lib/python3.10/site-packages/sklearn/base.py:442: InconsistentVersionWarning: Trying to unpickle estimator SVC from version 1.7.0 when using version 1.7.1. This might lead to breaking code or invalid results. Use at your own risk. For more info please refer to:\n",
      "https://scikit-learn.org/stable/model_persistence.html#security-maintainability-limitations\n",
      "  warnings.warn(\n"
     ]
    }
   ],
   "source": [
    "cnn_model = load_model(cnn_path)\n",
    "svm_model = joblib.load(svm_path)"
   ]
  },
  {
   "cell_type": "code",
   "execution_count": 5,
   "id": "3806cec3-5239-4ce8-aefc-81e32305df21",
   "metadata": {},
   "outputs": [],
   "source": [
    "#Sayın Hocam HOG öznitelik çıkarımı yapmadan svm modelim çalışmayacağı için öznitelik çıkarımı yapıyorum\n",
    "def get_hog_features(img_arr):\n",
    "    gray_img = tf.image.rgb_to_grayscale(img_arr).numpy().squeeze()\n",
    "    hog_feats = hog(\n",
    "        gray_img,\n",
    "        orientations=9,\n",
    "        pixels_per_cell=(8, 8),\n",
    "        cells_per_block=(2, 2),\n",
    "        block_norm='L2-Hys'\n",
    "    )\n",
    "    return hog_feats"
   ]
  },
  {
   "cell_type": "code",
   "execution_count": 6,
   "id": "205de6ef-e878-419e-a4ed-cf33b7809964",
   "metadata": {},
   "outputs": [],
   "source": [
    "#Demo sırasında sadece bir resmi tahmin etmek için yazdığım kod\n",
    "def run_single_demo(img_path):\n",
    "\n",
    "    test_loader = ImageDataGenerator(rescale=1. / 255)\n",
    "\n",
    "    test_set = test_loader.flow_from_directory(\n",
    "        test_root,\n",
    "        target_size=img_dims,\n",
    "        batch_size=batch_sz,\n",
    "        class_mode='categorical',\n",
    "        shuffle=False\n",
    "    )\n",
    "\n",
    "    labels = list(test_set.class_indices.keys())\n",
    "\n",
    "    img = image.load_img(img_path, target_size=img_dims)\n",
    "    img_arr = image.img_to_array(img) / 255.0\n",
    "    img_arr_exp = np.expand_dims(img_arr, axis=0)\n",
    "\n",
    "    # CNN tahmini\n",
    "    cnn_probs = cnn_model.predict(img_arr_exp)\n",
    "    cnn_pred = labels[np.argmax(cnn_probs)]\n",
    "\n",
    "    # HOG + SVM tahmini\n",
    "    hog_input = get_hog_features(img_arr)\n",
    "    svm_pred = svm_model.predict([hog_input])[0]\n",
    "    pred_class_svm = labels[int(svm_pred)]\n",
    "\n",
    "\n",
    "    # Resim ve tahminler\n",
    "    plt.imshow(img)\n",
    "    plt.axis('off')\n",
    "    plt.title(f\"CNN: {cnn_pred} | HOG+SVM: {pred_class_svm}\")\n",
    "    plt.show()\n"
   ]
  },
  {
   "cell_type": "code",
   "execution_count": 15,
   "id": "f404060e-00be-43d6-8ad9-9bf98a81d8f9",
   "metadata": {},
   "outputs": [],
   "source": [
    "#   Birden fazla resim test etme kodu \n",
    "def run_folder_demo(folder):\n",
    "    #kodun cnn kısmı test dosyamdaki haline çevirdim\n",
    "    test_loader = ImageDataGenerator(rescale=1. / 255)\n",
    "\n",
    "    test_set = test_loader.flow_from_directory(\n",
    "        test_root,\n",
    "        target_size=img_dims,\n",
    "        batch_size=batch_sz,\n",
    "        class_mode='categorical',\n",
    "        shuffle=False\n",
    "    )\n",
    "    \n",
    "    label_list = list(test_set.class_indices.keys())\n",
    "    true_cnn_labels = test_set.classes\n",
    "    \n",
    "    # CNN tahmini\n",
    "    cnn_probs = cnn_model.predict(test_set)\n",
    "    cnn_preds = np.argmax(cnn_probs, axis=1)\n",
    "    \n",
    "    print(\"\\n--- CNN Classification ---\")\n",
    "    print(classification_report(true_cnn_labels, cnn_preds, target_names=label_list))\n",
    "    print(f\"Accuracy (CNN): {accuracy_score(true_cnn_labels, cnn_preds):.2f}\") \n",
    "\n",
    "    true_svm, pred_svm = [], []\n",
    "\n",
    "    # Sırayla tüm classları gez\n",
    "    for class_name in os.listdir(test_root):\n",
    "        class_folder = os.path.join(test_root, class_name)\n",
    "        if not os.path.isdir(class_folder) or class_name not in label_list:\n",
    "            continue\n",
    "    \n",
    "        for img_file in os.listdir(class_folder) :\n",
    "            full_path = os.path.join(class_folder, img_file)\n",
    "    \n",
    "            try:\n",
    "                img = load_img(full_path, target_size=img_dims)\n",
    "                img_arr = img_to_array(img) / 255.0\n",
    "    \n",
    "                # HOG + SVM Tahmini\n",
    "                hog_feat = get_hog_features(img_arr)\n",
    "                svm_out = svm_model.predict([hog_feat])[0]\n",
    "    \n",
    "                pred_svm.append(int(svm_out))\n",
    "                true_svm.append(label_list.index(class_name))\n",
    "    \n",
    "            except Exception as e:\n",
    "                print()\n",
    "    \n",
    "    # Svm sonuçları\n",
    "    print(\"\\n--- SVM Classification ---\")\n",
    "    print(classification_report(true_svm, pred_svm, target_names=label_list))\n",
    "    print(f\"Accuracy (SVM): {accuracy_score(true_svm, pred_svm):.2f}\")\n"
   ]
  },
  {
   "cell_type": "code",
   "execution_count": 16,
   "id": "b0c0075d-b70a-4202-accc-c6b1c409e054",
   "metadata": {},
   "outputs": [
    {
     "name": "stdout",
     "output_type": "stream",
     "text": [
      "\n",
      ">>> Single Image Evaluation\n",
      "Found 20 images belonging to 5 classes.\n",
      "\u001b[1m1/1\u001b[0m \u001b[32m━━━━━━━━━━━━━━━━━━━━\u001b[0m\u001b[37m\u001b[0m \u001b[1m0s\u001b[0m 18ms/step\n"
     ]
    },
    {
     "data": {
      "image/png": "[encoded data removed]",
      "text/plain": [
       "<Figure size 640x480 with 1 Axes>"
      ]
     },
     "metadata": {},
     "output_type": "display_data"
    },
    {
     "name": "stdout",
     "output_type": "stream",
     "text": [
      "\n",
      ">>> Batch Folder Evaluation\n",
      "Found 20 images belonging to 5 classes.\n",
      "\u001b[1m1/1\u001b[0m \u001b[32m━━━━━━━━━━━━━━━━━━━━\u001b[0m\u001b[37m\u001b[0m \u001b[1m0s\u001b[0m 63ms/step\n",
      "\n",
      "--- CNN Classification ---\n",
      "              precision    recall  f1-score   support\n",
      "\n",
      "       Angry       1.00      0.75      0.86         4\n",
      "       Happy       0.67      1.00      0.80         4\n",
      "     Neutral       0.43      0.75      0.55         4\n",
      "         Sad       0.67      0.50      0.57         4\n",
      "    Surprise       1.00      0.25      0.40         4\n",
      "\n",
      "    accuracy                           0.65        20\n",
      "   macro avg       0.75      0.65      0.63        20\n",
      "weighted avg       0.75      0.65      0.63        20\n",
      "\n",
      "Accuracy (CNN): 0.65\n",
      "\n",
      "\n",
      "\n",
      "\n"
     ]
    },
    {
     "name": "stderr",
     "output_type": "stream",
     "text": [
      "/opt/anaconda3/envs/cnn_env/lib/python3.10/site-packages/keras/src/trainers/data_adapters/py_dataset_adapter.py:121: UserWarning: Your `PyDataset` class should call `super().__init__(**kwargs)` in its constructor. `**kwargs` can include `workers`, `use_multiprocessing`, `max_queue_size`. Do not pass these arguments to `fit()`, as they will be ignored.\n",
      "  self._warn_if_super_not_called()\n"
     ]
    },
    {
     "name": "stdout",
     "output_type": "stream",
     "text": [
      "\n",
      "\n",
      "\n",
      "\n",
      "\n",
      "\n",
      "\n",
      "--- SVM Classification ---\n",
      "              precision    recall  f1-score   support\n",
      "\n",
      "       Angry       1.00      0.75      0.86         4\n",
      "       Happy       0.67      1.00      0.80         4\n",
      "     Neutral       1.00      1.00      1.00         4\n",
      "         Sad       0.80      1.00      0.89         4\n",
      "    Surprise       1.00      0.50      0.67         4\n",
      "\n",
      "    accuracy                           0.85        20\n",
      "   macro avg       0.89      0.85      0.84        20\n",
      "weighted avg       0.89      0.85      0.84        20\n",
      "\n",
      "Accuracy (SVM): 0.85\n"
     ]
    }
   ],
   "source": [
    "# Demo çalıştırma kodu\n",
    "print(\"\\n>>> Single Image Evaluation\")\n",
    "run_single_demo(\"demo_inputs/tek_resim/sample.jpg\")\n",
    "\n",
    "print(\"\\n>>> Batch Folder Evaluation\")\n",
    "run_folder_demo(test_root)"
   ]
  },
  {
   "cell_type": "code",
   "execution_count": null,
   "id": "7175b4e1-e3fe-41f9-a32a-99853b40a5ac",
   "metadata": {},
   "outputs": [],
   "source": []
  }
 ],
 "metadata": {
  "kernelspec": {
   "display_name": "Python 3 (ipykernel)",
   "language": "python",
   "name": "python3"
  },
  "language_info": {
   "codemirror_mode": {
    "name": "ipython",
    "version": 3
   },
   "file_extension": ".py",
   "mimetype": "text/x-python",
   "name": "python",
   "nbconvert_exporter": "python",
   "pygments_lexer": "ipython3",
   "version": "3.10.18"
  }
 },
 "nbformat": 4,
 "nbformat_minor": 5
}
