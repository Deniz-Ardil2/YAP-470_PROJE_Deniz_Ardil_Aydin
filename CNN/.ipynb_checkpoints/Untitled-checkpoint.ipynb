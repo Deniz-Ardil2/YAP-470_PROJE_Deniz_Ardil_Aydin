{
 "cells": [
  {
   "cell_type": "code",
   "execution_count": 2,
   "id": "bdc2cec4-049f-4210-aa3e-96241c2c881f",
   "metadata": {},
   "outputs": [
    {
     "name": "stdout",
     "output_type": "stream",
     "text": [
      "Veri başarıyla train/val/test olarak ayrıldı!\n"
     ]
    }
   ],
   "source": [
    "import os\n",
    "import shutil\n",
    "import random\n",
    "\n",
    "# Ana veri dizini ve oranlar\n",
    "original_data_dir = \"Data_2\"\n",
    "output_base_dir = \"Data_Split_2\"\n",
    "train_ratio = 0.7\n",
    "val_ratio = 0.15\n",
    "test_ratio = 0.15\n",
    "\n",
    "# Tohum sabitle\n",
    "random.seed(42)\n",
    "\n",
    "# Eğer hedef klasör varsa sil\n",
    "if os.path.exists(output_base_dir):\n",
    "    shutil.rmtree(output_base_dir)\n",
    "\n",
    "# Tekrar oluştur\n",
    "for split in ['train', 'val', 'test']:\n",
    "    os.makedirs(os.path.join(output_base_dir, split), exist_ok=True)\n",
    "\n",
    "# Her sınıf için işlemleri yap\n",
    "for class_name in os.listdir(original_data_dir):\n",
    "    class_path = os.path.join(original_data_dir, class_name)\n",
    "    if not os.path.isdir(class_path):\n",
    "        continue\n",
    "\n",
    "    images = os.listdir(class_path)\n",
    "    random.shuffle(images)\n",
    "\n",
    "    total = len(images)\n",
    "    train_end = int(train_ratio * total)\n",
    "    val_end = train_end + int(val_ratio * total)\n",
    "\n",
    "    split_data = {\n",
    "        'train': images[:train_end],\n",
    "        'val': images[train_end:val_end],\n",
    "        'test': images[val_end:]\n",
    "    }\n",
    "\n",
    "    for split, split_images in split_data.items():\n",
    "        split_class_dir = os.path.join(output_base_dir, split, class_name)\n",
    "        os.makedirs(split_class_dir, exist_ok=True)\n",
    "\n",
    "        for img_name in split_images:\n",
    "            src_path = os.path.join(class_path, img_name)\n",
    "            dst_path = os.path.join(split_class_dir, img_name)\n",
    "            shutil.copy(src_path, dst_path)  # İstersen copy yerine move() yap\n",
    "\n",
    "print(\"Veri başarıyla train/val/test olarak ayrıldı!\")\n"
   ]
  },
  {
   "cell_type": "code",
   "execution_count": null,
   "id": "46d5f86e-6b9e-416a-840b-683d6c6fe3a2",
   "metadata": {},
   "outputs": [],
   "source": []
  }
 ],
 "metadata": {
  "kernelspec": {
   "display_name": "Python 3 (ipykernel)",
   "language": "python",
   "name": "python3"
  },
  "language_info": {
   "codemirror_mode": {
    "name": "ipython",
    "version": 3
   },
   "file_extension": ".py",
   "mimetype": "text/x-python",
   "name": "python",
   "nbconvert_exporter": "python",
   "pygments_lexer": "ipython3",
   "version": "3.10.18"
  }
 },
 "nbformat": 4,
 "nbformat_minor": 5
}
